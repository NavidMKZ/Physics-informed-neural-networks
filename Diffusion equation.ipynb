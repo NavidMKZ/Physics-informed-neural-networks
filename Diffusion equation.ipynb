{
 "cells": [
  {
   "cell_type": "code",
   "execution_count": 1,
   "id": "e00a1ed8-cf05-432e-b77d-f29ceaf388ee",
   "metadata": {},
   "outputs": [],
   "source": [
    "import matplotlib.pyplot as plt\n",
    "from matplotlib.cm import get_cmap\n",
    "import torch\n",
    "import torch.nn as nn"
   ]
  },
  {
   "cell_type": "code",
   "execution_count": 2,
   "id": "394c970c-7d6e-4d20-bc48-6dd8acc92eeb",
   "metadata": {},
   "outputs": [],
   "source": [
    "def func(data):\n",
    "    x, t = data[:, 0], data[:, 1]\n",
    "    return np.exp(-0.4*(np.pi**2)*t) * np.sin((np.pi)*x)\n",
    "\n",
    "def PINN(NN, domain, num_train, learning_rate, num_itrs, num_test, itr_show=1000):\n",
    "    model = NN\n",
    "    optimizer = torch.optim.Adam(model.parameters(), lr=learning_rate)\n",
    "    \n",
    "    x = torch.linspace(0, 1, num_train)\n",
    "    t = torch.linspace(0, 1, num_train)\n",
    "    \n",
    "    X, T = torch.meshgrid((x, t), indexing=\"ij\")\n",
    "    data = torch.vstack([X.ravel(), T.ravel()]).T \n",
    "    \n",
    "    indices1 = (data[:, 0] == 0).nonzero(as_tuple=True)[0]\n",
    "    indices2 = (data[:, 0] == 1).nonzero(as_tuple=True)[0]\n",
    "    indices3 = (data[:, 1] == 0).nonzero(as_tuple=True)[0]\n",
    "\n",
    "    all_indices = torch.cat([indices1, indices2])\n",
    "    \n",
    "    data.requires_grad = True\n",
    "\n",
    "    for itr in range(num_itrs):\n",
    "        f = model(data)\n",
    "        \n",
    "        dfdt = torch.autograd.grad(f, data, grad_outputs=torch.ones_like(f), create_graph=True)[0][:, 1]\n",
    "        dfdx = torch.autograd.grad(f, data, grad_outputs=torch.ones_like(f), create_graph=True)[0][:, 0]\n",
    "        dfdx2 = torch.autograd.grad(dfdx, data, grad_outputs=torch.ones_like(dfdx), create_graph=True)[0][:, 0]\n",
    "\n",
    "        loss = torch.mean((dfdt - 0.4*dfdx2)**2) + torch.mean((f[all_indices])**2) + torch.mean((f[indices3] - torch.sin(torch.pi*data[indices3, 0:1]))**2)\n",
    "        \n",
    "        loss.backward()\n",
    "        optimizer.step()\n",
    "        optimizer.zero_grad()\n",
    "\n",
    "        if (itr+1) % itr_show == 0:\n",
    "            print(f'iteration {itr+1}/{num_itrs}, loss = {loss}')\n",
    "\n",
    "    x = torch.linspace(0, 1, num_test)\n",
    "    t = torch.linspace(0, 1, num_test)\n",
    "    \n",
    "    X, T = torch.meshgrid((x, t), indexing=\"ij\")\n",
    "    data = torch.vstack([X.ravel(), T.ravel()]).T \n",
    "    \n",
    "    predicted = model(data)\n",
    "    predicted = torch.reshape(predicted, (num_test, num_test))\n",
    "    \n",
    "    plt.figure(figsize=(10, 6))\n",
    "    cp = plt.contourf(X.cpu().detach().numpy(), T.cpu().detach().numpy(), predicted.cpu().detach().numpy())\n",
    "    plt.colorbar(cp)\n",
    "    plt.xlabel('t')\n",
    "    plt.ylabel('x')\n",
    "    plt.show()"
   ]
  },
  {
   "cell_type": "code",
   "execution_count": 3,
   "id": "7e446807-fecb-4973-95fb-47b8c10f8761",
   "metadata": {},
   "outputs": [],
   "source": [
    "torch.manual_seed(42)\n",
    "\n",
    "class NeuralNet(nn.Module):\n",
    "    def __init__(self, input_size, hidden_size, output_size):\n",
    "        super().__init__()\n",
    "        self.l1 = nn.Linear(input_size, hidden_size)\n",
    "        self.l2 = nn.Linear(hidden_size, hidden_size)\n",
    "        self.l3 = nn.Linear(hidden_size, hidden_size)\n",
    "        self.l5 = nn.Linear(hidden_size, output_size)\n",
    "        self.tanh = nn.Tanh()\n",
    "        \n",
    "    def forward(self, x):\n",
    "        out = self.tanh(self.l1(x))\n",
    "        out = self.tanh(self.l2(out))\n",
    "        out = self.tanh(self.l3(out))\n",
    "        out = self.l5(out)\n",
    "        return out\n",
    "\n",
    "        \n",
    "input_size, hidden_size, output_size = 2, 50, 1\n",
    "NN = NeuralNet(input_size, hidden_size, output_size)"
   ]
  },
  {
   "cell_type": "code",
   "execution_count": 4,
   "id": "abba7fae-2343-41c6-ac97-4023f78b64b0",
   "metadata": {},
   "outputs": [
    {
     "name": "stdout",
     "output_type": "stream",
     "text": [
      "iteration 1000/1000, loss = 7.782756438245997e-05\n"
     ]
    },
    {
     "data": {
      "image/png": "[encoded data removed]",
      "text/plain": [
       "<Figure size 1000x600 with 2 Axes>"
      ]
     },
     "metadata": {},
     "output_type": "display_data"
    }
   ],
   "source": [
    "domain = (0, 1)\n",
    "num_train = 30\n",
    "num_test = 50\n",
    "learning_rate = 0.001\n",
    "num_itrs = 1000\n",
    "PINN(NN, domain, num_train, learning_rate, num_itrs, num_test, itr_show=1000)"
   ]
  },
  {
   "cell_type": "code",
   "execution_count": null,
   "id": "26efa87c-9cd1-453f-b933-47462fc7d816",
   "metadata": {},
   "outputs": [],
   "source": []
  }
 ],
 "metadata": {
  "kernelspec": {
   "display_name": "Python 3 (ipykernel)",
   "language": "python",
   "name": "python3"
  },
  "language_info": {
   "codemirror_mode": {
    "name": "ipython",
    "version": 3
   },
   "file_extension": ".py",
   "mimetype": "text/x-python",
   "name": "python",
   "nbconvert_exporter": "python",
   "pygments_lexer": "ipython3",
   "version": "3.12.5"
  }
 },
 "nbformat": 4,
 "nbformat_minor": 5
}
